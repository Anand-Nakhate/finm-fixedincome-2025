





import pandas as pd
import numpy as np
from datetime import datetime
from sklearn.decomposition import PCA
from pandas.tseries.offsets import DateOffset
import matplotlib.pyplot as plt
import datetime


file_path = '../data/treasury_ts_2015-08-15.xlsx'
df = pd.read_excel(file_path, sheet_name='database')
df["tdduratn"] = df["tdduratn"] / 365.25
df["tdyld"] = df["tdyld"] * 365.25
df.head()





# 1.1
def filter_and_transform_data(df, selected_ids, date):
    df_selected = df[(df["kytreasno"].isin(selected_ids)) & (df["caldt"] == date)].set_index("kytreasno")
    df_selected["tdcouprt"] = [4.25, 10.625]  # Hardcoded values (Values in a different sheet)
    situation = df_selected.loc[:, ["tdcouprt", "tdbid", "tdask", "tdaccint", "tdnomprc", "tdduratn", "tdyld"]].rename(
        columns={
            "tdcouprt": "Coupon Rate",
            "tdbid": "Bid",
            "tdask": "Ask",
            "tdaccint": "Accrued Interest",
            "tdnomprc": "Clean Price",
            "tdduratn": "Duration",
            "tdyld": "YTM"
        }
    )

    situation["Dirty Price"] = situation["Clean Price"] + situation["Accrued Interest"]
    situation["Modified Duration"] = situation["Duration"] / (1 + situation["YTM"] / 2)
    return situation

selected_ids = [204046, 204047]
situation = filter_and_transform_data(df, selected_ids, date="2008-11-04")
situation.T


# 1.2
def calculate_hedge_ratio(df, capital_used, leverage, amount_invested, long_bond_id, short_bond_id):
    clean_price_i = df.loc[long_bond_id, "Clean Price"]
    duration_i = df.loc[long_bond_id, "Duration"]
    clean_price_j = df.loc[short_bond_id, "Clean Price"]
    duration_j = df.loc[short_bond_id, "Duration"]

    n_i = amount_invested / clean_price_i
    D_s_i = clean_price_i * duration_i
    D_s_j = clean_price_j * duration_j
    n_j = -n_i * (D_s_i / D_s_j)

    total_short_position = n_j * clean_price_j

    final_df = pd.DataFrame({
        "Investment": [amount_invested, total_short_position],
        "Price": [clean_price_i, clean_price_j],
        "Number of Holdings": [n_i, n_j],
        "Duration": [duration_i, duration_j],
        "Dollar Duration": [D_s_i, D_s_j],
        "Modified Duration": [df.loc[long_bond_id, "Modified Duration"], df.loc[short_bond_id, "Modified Duration"]]
    }, index=[long_bond_id, short_bond_id])

    return final_df


capital_used = 1_000_000
leverage = 50
amount_invested = 50_000_000
long_bond_id = 204046
short_bond_id = 204047

hedge_df = calculate_hedge_ratio(situation, capital_used, leverage, amount_invested, long_bond_id, short_bond_id)
hedge_df.T





# 1.3
def calculate_pnl(df, long_bond_id, short_bond_id, n_i, n_j, ytm_change_bp):
    ytm_change = ytm_change_bp / 10_000
    mod_duration_i = df.loc[long_bond_id, "Modified Duration"]
    mod_duration_j = df.loc[short_bond_id, "Modified Duration"]

    price_change_i = -mod_duration_i * ytm_change * df.loc[long_bond_id, "Dirty Price"]
    price_change_j = -mod_duration_j * ytm_change * df.loc[short_bond_id, "Dirty Price"]

    pnl_long = n_i * price_change_i
    pnl_short = n_j * price_change_j
    net_pnl = pnl_long + pnl_short

    pnl_df = pd.DataFrame({
        "PnL": [pnl_long, pnl_short, net_pnl]
    }, index=["Long Position", "Short Position", "Net Total"])
    return pnl_df


n_i = hedge_df.loc[long_bond_id, "Number of Holdings"]
n_j = hedge_df.loc[short_bond_id, "Number of Holdings"]
ytm_change_bp = 0.5  
pnl_df = calculate_pnl(situation, long_bond_id, short_bond_id, n_i, n_j, ytm_change_bp)
pnl_df


ytm_change_bp = 0.17
pnl_df = calculate_pnl(situation, long_bond_id, short_bond_id, n_i, n_j, ytm_change_bp)
pnl_df





situation_2 = filter_and_transform_data(df, selected_ids, "2008-11-25")
situation_2.T














import pandas as pd


QUOTE_DATE = '2024-10-31'
filepath = f'../data/treasury_ts_duration_{QUOTE_DATE}.xlsx'

data = pd.read_excel(filepath,sheet_name='database')
data_info =  data.drop_duplicates(subset='KYTREASNO', keep='first').set_index('KYTREASNO')
data_info[['type','issue date','maturity date','cpn rate']]





SHEET_PRICE = 'price'
SHEET_DURATION = 'duration'
INDEX_NAME = 'quote date'

price = pd.read_excel(filepath,sheet_name=SHEET_PRICE).set_index(INDEX_NAME)
duration = pd.read_excel(filepath,sheet_name=SHEET_DURATION).set_index(INDEX_NAME)

display(price)
display(duration)





# 2.1
first_date = price.index[0]
price_note = price.loc[first_date, 207391]
price_bond = price.loc[first_date, 207392]
duration_note = duration.loc[first_date, 207391]
duration_bond = duration.loc[first_date, 207392]

portfolio_value = 10000  
dollar_duration_long = portfolio_value * duration_note
notional_short = dollar_duration_long / duration_bond
units_short = notional_short / price_bond

print(f"Notional Short Position in Bond 207392 on {first_date.date()}: ${notional_short}")
print(f"Units to Short in Bond 207392 on {first_date.date()}: {units_short}")


# 2.2
def rebalance_positions(price_row, duration_row, portfolio_value):
    price_207391 = price_row[207391]
    duration_207391 = duration_row[207391]
    long_units = portfolio_value / price_207391
    
    price_207392 = price_row[207392]
    duration_207392 = duration_row[207392]
    notional_short = portfolio_value * (duration_207391 / duration_207392)
    short_units = notional_short / price_207392
    
    dollar_duration_long = portfolio_value * duration_207391
    dollar_duration_short = notional_short * duration_207392
    net_duration = dollar_duration_long - dollar_duration_short  
    
    return {
        'long_units': long_units,
        'short_units': short_units,
        'net_duration': net_duration
    }

def compute_daily_price_pnl(price_today, price_next, positions):
    pnl_long = positions['long_units'] * (price_next[207391] - price_today[207391])
    pnl_short = - positions['short_units'] * (price_next[207392] - price_today[207392])
    return pnl_long + pnl_short

def simulate_strategies(price_df, duration_df, portfolio_value):
    dates = price_df.index.sort_values()
    num_periods = len(dates) - 1
    
    pnl_dynamic_list, pnl_long_only_list, pnl_dates = [], [], []
    
    for i in range(num_periods):
        date_t = dates[i]
        date_next = dates[i+1]
        
        price_today = price_df.loc[date_t]
        duration_today = duration_df.loc[date_t]
        pos = rebalance_positions(price_today, duration_today, portfolio_value)
        price_next_day = price_df.loc[date_next]
        daily_pnl_dynamic = compute_daily_price_pnl(price_today, price_next_day, pos)
        pnl_dynamic_list.append(daily_pnl_dynamic)
        long_units = portfolio_value / price_today[207391]
        daily_pnl_long = long_units * (price_next_day[207391] - price_today[207391])
        pnl_long_only_list.append(daily_pnl_long)
        pnl_dates.append(date_next)
    
    pnl_dynamic_series = pd.Series(pnl_dynamic_list, index=pnl_dates)
    pnl_long_only_series = pd.Series(pnl_long_only_list, index=pnl_dates)
    
    return pnl_dynamic_series, pnl_long_only_series

portfolio_value = 10000.0
pnl_dynamic_series, pnl_long_only_series = simulate_strategies(price, duration, portfolio_value)
display(pnl_dynamic_series.to_frame().rename(columns = {0: "PnL Dynamic Series"}))
display(pnl_long_only_series.to_frame().rename(columns = {0: "PnL Long Only Series"}))


cum_pnl_dynamic = pnl_dynamic_series.cumsum()
cum_pnl_long_only = pnl_long_only_series.cumsum()
display(cum_pnl_dynamic.to_frame().rename(columns = {0: "Cumulative PnL Dynamic Series"}))
display(cum_pnl_long_only.to_frame().rename(columns = {0: "Cumulative PnL Long Only Series"}))


plt.figure(figsize=(10, 6))
plt.plot(cum_pnl_dynamic.index, cum_pnl_dynamic, label='Dynamic Hedge Strategy')
plt.plot(cum_pnl_long_only.index, cum_pnl_long_only, label='Long-Only Strategy')
plt.xlabel('Date')
plt.ylabel('Cumulative PnL (USD)')
plt.title('Cumulative PnL: Dynamic Hedge vs. Long-Only Strategy')
plt.legend()
plt.grid(True)
plt.show()


pnl_stats = pd.DataFrame({
    'Strategy': ['Dynamic Hedge', 'Long Only'],
    'Mean': [pnl_dynamic_series.mean(), pnl_long_only_series.mean()],
    'Std': [pnl_dynamic_series.std(), pnl_long_only_series.std()],
    'Min': [pnl_dynamic_series.min(), pnl_long_only_series.min()],
    'Max': [pnl_dynamic_series.max(), pnl_long_only_series.max()]
})
pnl_stats.set_index("Strategy").T





# 2.4
file_path = '../data/treasury_ts_duration_2024-10-31.xlsx'
df_data = pd.read_excel(file_path, sheet_name='database')
df_data


def get_coupon_payments_for_treasury(df, treasury_id):
    treasury_df = df[df['KYTREASNO'] == treasury_id].sort_values(by='quote date').copy()
    treasury_df.reset_index(drop=True, inplace=True)
    treasury_df['coupon_payment'] = 0.0
    for i in range(1, len(treasury_df)):
        if treasury_df.loc[i, 'accrued int'] < treasury_df.loc[i-1, 'accrued int']:
            treasury_df.loc[i, 'coupon_payment'] = treasury_df.loc[i, 'cpn rate'] / 2.0
    treasury_df.set_index('quote date', inplace=True)
    return treasury_df[['coupon_payment']]

def combine_coupon_payments(df, treasury_ids):
    coupon_dfs = []
    for tid in treasury_ids:
        cp_df = get_coupon_payments_for_treasury(df, tid)
        cp_df = cp_df.rename(columns={'coupon_payment': tid})
        coupon_dfs.append(cp_df)
    coupon_payments = pd.concat(coupon_dfs, axis=1).fillna(0)
    coupon_payments.sort_index(inplace=True)    
    return coupon_payments
    
treasury_ids = [207391, 207392]
coupon_payments_df = combine_coupon_payments(df_data, treasury_ids)
coupon_dates = coupon_payments_df[(coupon_payments_df[treasury_ids[0]] > 0) | 
                                  (coupon_payments_df[treasury_ids[1]] > 0)]
coupon_dates.head()


# 2.5

def compute_coupon_pnl(date, positions, coupon_df):
    coupon_long = coupon_df.at[date, 207391] if date in coupon_df.index else 0.0
    coupon_short = coupon_df.at[date, 207392] if date in coupon_df.index else 0.0
    return coupon_long, coupon_short

def simulate_strategies_with_coupons(price_df, duration_df, coupon_df, portfolio_value):
    dates = price_df.index.sort_values()
    num_periods = len(dates) - 1
    pnl_dynamic_list = []
    pnl_long_only_list = []
    pnl_dates = []
    
    for i in range(num_periods):
        date_t = dates[i]
        date_next = dates[i+1]
        price_today = price_df.loc[date_t]
        duration_today = duration_df.loc[date_t]
        
        positions = rebalance_positions(price_today, duration_today, portfolio_value)
        price_next_day = price_df.loc[date_next]
        pnl_price = compute_daily_price_pnl(price_today, price_next_day, positions)
        long_units_long_only = portfolio_value / price_today[207391]
        pnl_long_only_price = long_units_long_only * (price_next_day[207391] - price_today[207391])
        
        coupon_long, coupon_short = compute_coupon_pnl(date_next, positions, coupon_df)
        pnl_coupon_dynamic = positions['long_units'] * coupon_long - positions['short_units'] * coupon_short
        pnl_coupon_long_only = long_units_long_only * coupon_long
        pnl_dynamic_total = pnl_price + pnl_coupon_dynamic
        pnl_long_only_total = pnl_long_only_price + pnl_coupon_long_only
        pnl_dynamic_list.append(pnl_dynamic_total)
        pnl_long_only_list.append(pnl_long_only_total)
        pnl_dates.append(date_next)
    
    pnl_dynamic_series = pd.Series(pnl_dynamic_list, index=pnl_dates)
    pnl_long_only_series = pd.Series(pnl_long_only_list, index=pnl_dates)    
    return pnl_dynamic_series, pnl_long_only_series


portfolio_value = 10000.0
pnl_dynamic_series, pnl_long_only_series = simulate_strategies_with_coupons(
    price, duration, coupon_payments_df, portfolio_value
)

display(pnl_dynamic_series.to_frame().rename(columns = {0: "PnL Dynamic Series"}))
display(pnl_long_only_series.to_frame().rename(columns = {0: "PnL Long Only Series"}))


cum_pnl_dynamic = pnl_dynamic_series.cumsum()
cum_pnl_long_only = pnl_long_only_series.cumsum()
display(cum_pnl_dynamic.to_frame().rename(columns = {0: "Cumulative PnL Dynamic Series"}))
display(cum_pnl_long_only.to_frame().rename(columns = {0: "Cumulative PnL Long Only Series"}))


plt.figure(figsize=(10,6))
plt.plot(cum_pnl_dynamic.index, cum_pnl_dynamic, label='Dynamic Hedge')
plt.plot(cum_pnl_long_only.index, cum_pnl_long_only, label='Long Only')
plt.xlabel('Date')
plt.ylabel('Cumulative PnL (USD)')
plt.title('Cumulative PnL with Coupons Included')
plt.legend()
plt.grid(True)
plt.show()


pnl_stats = pd.DataFrame({
    'Strategy': ['Dynamic Hedge', 'Long Only'],
    'Mean': [pnl_dynamic_series.mean(), pnl_long_only_series.mean()],
    'Std': [pnl_dynamic_series.std(), pnl_long_only_series.std()],
    'Min': [pnl_dynamic_series.min(), pnl_long_only_series.min()],
    'Max': [pnl_dynamic_series.max(), pnl_long_only_series.max()]
})
print("\nDaily PnL Statistics (with Coupons):")
pnl_stats.set_index("Strategy")



