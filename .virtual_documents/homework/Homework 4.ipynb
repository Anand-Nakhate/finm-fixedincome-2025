





import pandas as pd
import numpy as np
import matplotlib.pyplot as plt





























prices = pd.read_excel("../data/famabliss_strips_2024-12-31.xlsx", sheet_name='prices')  
prices['date'] = pd.to_datetime(prices['date'])
prices.head()





def filter_month_data(df, years, month=12) :
    mask = df['date'].dt.year.isin(years) & (df['date'].dt.month == month)
    df_filtered = df.loc[mask].copy()    
    df_filtered.sort_values('date', inplace=True)
    return df_filtered

years = [2020, 2021, 2022, 2023, 2024]
df = filter_month_data(prices, years, 12).set_index('date')
df


def calculate_forward_discount_factors(df):
    F = df[list(df.columns)[1:]] / df[(df.columns)[:-1]].values
    return F 
F = calculate_forward_discount_factors(df)
display(F)
F.T.plot(xlabel="Maturity T1 (years)", 
         ylabel="Forward Discount Factor F(t, T1, T1+1)", 
         title="Forward Discount Factor Curves (Dec 2020 - Dec 2024)")








def calclate_spot_rate(df):
    spot = -np.log(df)/df.columns
    return spot
spot = calclate_spot_rate(df)
spot


def calculate_continuous_forward_rates(df, spot, F):
    fwd_rates = -np.log(F)
    fwd_rates.insert(0,1,spot[1])
    return fwd_rates
f = calculate_continuous_forward_rates(df, spot, F)
display(f)
f.T.plot(xlabel="Maturity T1 (years)", 
         ylabel="Continuously Compounded Forward Rate", 
         title="Continuously Compounded Forward Rate Curves (Dec 2020 - Dec 2024)")





spot.T.plot(xlabel="Maturity T1 (years)", 
            ylabel="Continuously Compounded  Spot Rate", 
            title="Continuously Compounded Forward Rate Curves (Dec 2020 - Dec 2024)")


print("Continuously Compounded Forward Rate - December 2020")
display(f.loc['2020'])
print("Continuously Compounded Spot Rate - December 2020")
display(spot.loc['2020'])

plt.figure(figsize=(10, 6))
maturities = list(spot.columns)

plt.plot(maturities, f.loc['2020-12-31'], marker='o', label='Forward Rate (Dec 2020)')
plt.plot(maturities, spot.loc['2020-12-31'], marker='s', label='Spot Rate (Dec 2020)')

plt.xlabel("Maturity (years)")
plt.ylabel("Rate (continuously compounded)")
plt.title("Forward & Spot Rate Curves - December 2020")
plt.legend(loc="best")
plt.grid(True)
plt.tight_layout()
plt.show()





DATE = '2020-12-31'
temp = f.loc[DATE].T.copy()
temp.index = temp.index.astype(int)  
temp.name = 'Forward Curve'
temp = temp.to_frame()  

spot_over_time = spot[1].copy()
spot_over_time.index = spot_over_time.index.year
years = [2020, 2021, 2022, 2023, 2024]
temp.index = years
temp['Spot over Time'] = spot_over_time.loc[years].values

plt.figure(figsize=(10, 6))
plt.plot(temp.index, temp['Forward Curve'], marker='o', linestyle='-', label='Dec 2020 Forward Curve')
plt.plot(temp.index, temp['Spot over Time'], marker='s', linestyle='--', label='Observed One-Year Spot Rates')
plt.xlabel("Year")
plt.ylabel("Continuously Compounded Rate")
plt.title("Dec 2020 Forward Curve vs. Time-Series Evolution of One-Year Spot Rates")
plt.legend(loc="best")
plt.grid(True)
plt.tight_layout()
plt.show()






