








import pandas as pd
import numpy as np
from datetime import datetime
from sklearn.decomposition import PCA
from pandas.tseries.offsets import DateOffset
import matplotlib.pyplot as plt












file_path = '../data/treasury_quotes_2024-10-31.xlsx'
selected_quotes = pd.read_excel(file_path, sheet_name='selected quotes')
df = selected_quotes
df





def generate_semiannual_coupon_dates(issue_date, maturity_date):
    all_dates = pd.date_range(
        start=issue_date,
        end=maturity_date + DateOffset(months=6), 
        freq=DateOffset(months=6)
    )
    if len(all_dates) > 0 and all_dates[0] == issue_date:
        all_dates = all_dates[1:]
    coupon_dates = [d for d in all_dates if d <= maturity_date]
    return coupon_dates

def build_cashflow_matrix(
    treasury_data, 
    face_value=100.0, 
    payment_frequency_months=6, 
    remove_empty_columns=True
):
   
    data = treasury_data.copy()
    data['issue date']    = pd.to_datetime(data['issue date'])
    data['maturity date'] = pd.to_datetime(data['maturity date'])

    earliest_issue = data['issue date'].min()
    latest_maturity = data['maturity date'].max()

    all_dates = pd.date_range(
        start=earliest_issue,
        end=latest_maturity + DateOffset(months=payment_frequency_months),
        freq=DateOffset(months=payment_frequency_months)
    )

    all_dates = pd.Index(sorted(set(all_dates.union(data['maturity date']))))
    CF = pd.DataFrame(0.0, index=data.index, columns=all_dates)

    for i, row in data.iterrows():
        issue_dt    = row['issue date']
        maturity_dt = row['maturity date']
        annual_rate = row['cpn rate']
        if annual_rate > 1.0:
            annual_rate /= 100.0
        
        semiannual_coupon = annual_rate * face_value / 2.0
        cpn_dates = generate_semiannual_coupon_dates(issue_dt, maturity_dt)
        for cdate in cpn_dates:
            CF.loc[i, cdate] += semiannual_coupon
        CF.loc[i, maturity_dt] += face_value

    if remove_empty_columns:
        CF = CF.loc[:, (CF != 0).any(axis=0)]
    
    return CF
    
CF_matrix = build_cashflow_matrix(
        treasury_data=df, 
        face_value=100.0, 
        payment_frequency_months=6, 
        remove_empty_columns=True
)
CF_matrix = CF_matrix.reindex(sorted(CF_matrix.columns), axis=1)
CF_matrix





def solve_spot_discounts(CF_matrix, prices):
    C = CF_matrix.values 
    p = prices.values    
    if C.shape[0] == C.shape[1]:
        print("Solving Linear Equation")
        z = np.linalg.solve(C, p)
    else:
        print("Using Least Squares to solve the equation")
        z, residuals, rank, s = np.linalg.lstsq(C, p, rcond=None)
    
    z_series = pd.Series(z, index=CF_matrix.columns, name='discount factor')
    return z_series

prices = df['dirty price']  
prices = prices.reindex(CF_matrix.index)
z_series = solve_spot_discounts(CF_matrix, prices)
z_series.to_frame()





valuation_date = df['quote date'].iloc[0]  
plot_df = z_series.to_frame().reset_index()
plot_df.columns = ['date', 'discount factor']
plot_df['maturity'] = (plot_df['date'] - valuation_date).dt.days / 365.25

# Sort by maturity
plot_df.sort_values('maturity', inplace=True)

# Plot discount factors
import matplotlib.pyplot as plt

plt.figure(figsize=(8,5))
plt.plot(plot_df['maturity'], plot_df['discount factor'], marker='o')
plt.xlabel('Time-to-Maturity (years)')
plt.ylabel('Discount Factor')
plt.title('Fitted Discount Factors')
plt.grid(True)
plt.show()

# 2.6. OPTIONAL: Convert discount factors to yields and plot
plot_df['r_cont'] = plot_df.apply(lambda x: discount_to_yield(x['discount factor'], x['maturity']), axis=1)
plot_df['r_semi'] = plot_df.apply(lambda x: discount_to_semiannual(x['discount factor'], x['maturity']), axis=1)

plt.figure(figsize=(8,5))
plt.plot(plot_df['maturity'], plot_df['r_cont'], 'o-', label='Continuous Yield')
plt.plot(plot_df['maturity'], plot_df['r_semi'], 's-', label='Semiannual Yield')
plt.xlabel('Time-to-Maturity (years)')
plt.ylabel('Yield (decimal)')
plt.title('Implied Spot Yields')
plt.legend()
plt.grid(True)
plt.show()





























file_path = '../data/yields.xlsx'
yields_df = pd.read_excel(file_path, sheet_name='yields')
yields_df





maturities = list(map(int, yields_df.columns[1:]))

factors = pd.DataFrame(index=yields_df.index)
factors['level'] = yields_df[maturities].mean(axis=1)
factors['slope'] = yields_df[30] - yields_df[1]
factors['curvature'] = -yields_df[1] + 2*yields_df[10] - yields_df[30]
factors.head()


correlation_matrix = factors.corr()
correlation_matrix


mean_factors = factors.mean()
mean_factors.to_frame().rename(columns={0:"Mean Factors"})


vol_factors = factors.std()
vol_factors.to_frame().rename(columns={0:"Vol Factors"})





pca = PCA() 
pca.fit(yields_df[yields_df.columns[1:]])

explained_variance_ratio = pca.explained_variance_ratio_
print("Explained Variance Ratio by each component):")
for i, ratio in enumerate(explained_variance_ratio):
    print(f"PC{i+1}: {ratio}\n")

cumulative_ratio = np.cumsum(explained_variance_ratio)
print("Cumulative Explained Variance Ratio:")
for i, ratio in enumerate(cumulative_ratio, ):
    print(f"Till PC{i+1}: {ratio}\n")


x_axis = np.arange(1, len(explained_variance_ratio) + 1)
plt.figure(figsize=(8, 5))
plt.plot(x_axis, explained_variance_ratio, marker='o', linestyle='-', color='skyblue', 
         label='Individual EVR')
plt.plot(x_axis, cumulative_ratio, marker='o', linestyle='-', color='darkblue', 
         label='Cumulative EVR')

plt.xticks(x_axis) 
plt.xlabel('Principal Component')
plt.ylabel('Explained Variance Ratio')
plt.title('Explained & Cumulative Variance Ratio')
plt.legend()
plt.tight_layout()
plt.show()


import seaborn as sns
loadings_pc1 = pca.components_[0]
loadings_pc2 = pca.components_[1]
loadings_pc3 =  pca.components_[2]
loadings_df = pd.DataFrame(
    [loadings_pc1, loadings_pc2, loadings_pc3],
    index=['PC1', 'PC2', 'PC3'],
    columns=yields_df.columns[1:]  
)
loadings_df


plt.figure(figsize=(8, 4))
sns.heatmap(
    loadings_df, 
    annot=True,       
    cmap='vlag',      
    center=0
)
plt.title('Heat Map of First Two PC Loadings')
plt.ylabel('Principal Components')
plt.xlabel('Maturities')
plt.tight_layout()
plt.show()





compare_df = pd.concat([factors[['level', 'slope', 'curvature']], loadings_df.T[['PC1', 'PC2', 'PC3']]], axis=1)

corr_matrix = compare_df.corr()
corr_matrix


corr_level_pc1 = corr_matrix.loc['level', 'PC1']
corr_slope_pc2 = corr_matrix.loc['slope', 'PC2']

print(f"Correlation (Ad-hoc level, PC1): {corr_level_pc1:.4f}")
print(f"Correlation (Ad-hoc slope, PC2): {corr_slope_pc2:.4f}")



