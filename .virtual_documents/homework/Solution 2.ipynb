





























import pandas as pd


QUOTE_DATE = '2024-10-31'
filepath = f'../data/treasury_ts_duration_{QUOTE_DATE}.xlsx'

data = pd.read_excel(filepath,sheet_name='database')
data_info =  data.drop_duplicates(subset='KYTREASNO', keep='first').set_index('KYTREASNO')
data_info[['type','issue date','maturity date','cpn rate']]





SHEET_PRICE = 'price'
SHEET_DURATION = 'duration'
INDEX_NAME = 'quote date'

price = pd.read_excel(filepath,sheet_name=SHEET_PRICE).set_index(INDEX_NAME)
duration = pd.read_excel(filepath,sheet_name=SHEET_DURATION).set_index(INDEX_NAME)

display(price)
display(duration)











import matplotlib.pyplot as plt
%matplotlib inline
plt.rcParams['figure.figsize'] = (12,6)
plt.rcParams['font.size'] = 15
plt.rcParams['legend.fontsize'] = 13

from matplotlib.ticker import (MultipleLocator,
                               FormatStrFormatter,
                               AutoMinorLocator)
import sys
sys.path.insert(0, '../cmds')
from treasury_cmds import *





SIZE = 10000
IDLONG = 207391
IDSHORT = 207392


position = pd.DataFrame(index=duration.index, dtype=float)

position['long'] = SIZE / price[IDLONG]
position['hedge ratio'] = (duration[IDLONG] / duration[IDSHORT]) * (price[IDLONG] / price[IDSHORT])
position['short'] = - position['hedge ratio'] * position['long']
position[['long ($)','short ($)']] = position[['long','short']] * price[[IDLONG,IDSHORT]].values

position['net ($)'] = position[['long ($)','short ($)']].sum(axis=1)
wts = position[['long ($)','short ($)']].div(position[['long ($)','short ($)']].sum(axis=1),axis=0)





position['duration'] = (wts * duration[[IDLONG,IDSHORT]].values).sum(axis=1)
position['duration'].describe().to_frame().T.style.format('{:.1%}')


position['duration'].round(4).plot()
plt.ylabel('duration')
plt.title('duration over time')
plt.show()





position[['long ($) realized','short ($) realized']] = \
    position[['long','short']] * price[[IDLONG,IDSHORT]].shift(-1).values

position[['long p&l','short p&l']] = \
    position[['long ($) realized','short ($) realized']] - position[['long ($)','short ($)']].values

position['profit hedged'] = position[['long p&l','short p&l']].sum(axis=1)





position['profit'] = price[IDLONG].diff() * position['long'].shift()





cpns = data.pivot_table(index='quote date',columns='KYTREASNO',values='cpn rate').dropna()

accint = data.pivot_table(index='quote date',columns='KYTREASNO',values='accrued int').dropna()
dates_cpns = accint[(accint.diff(axis=0)<0).all(axis=1)].index.to_list()


cpn_position_hedged = (position[['long','short']].shift() * cpns[[IDLONG,IDSHORT]].values).sum(axis=1)
cpn_position_unhedged = position['long'].shift() * cpns[IDLONG].values
position.loc[dates_cpns,'profit hedged'] += cpn_position_hedged.loc[dates_cpns].values
position.loc[dates_cpns,'profit'] += cpn_position_unhedged.loc[dates_cpns].values


position


position[['profit','profit hedged']].cumsum().plot();


position[['profit','profit hedged']].describe().drop(index=['count']).style.format('${:,.2f}')








position[['net ($)']].plot()
plt.title('net position')
plt.show()


position[['long ($)','short ($)']].abs().sum(axis=1).plot()
plt.ylabel('gross position')
plt.title('gross position')
plt.show()



