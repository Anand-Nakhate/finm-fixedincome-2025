





















































import pandas as pd
import numpy as np
import datetime
import warnings
warnings.filterwarnings('ignore',category=FutureWarning)

import matplotlib.pyplot as plt
%matplotlib inline
plt.rcParams['figure.figsize'] = (12,6)
plt.rcParams['font.size'] = 15
plt.rcParams['legend.fontsize'] = 13

from matplotlib.ticker import (MultipleLocator,
                               FormatStrFormatter,
                               AutoMinorLocator)
import sys
sys.path.insert(0, '../cmds')
from treasury_cmds import *











filepath = '../data/yields.xlsx'
yields = pd.read_excel(filepath, sheet_name='yields')
yields.set_index('caldt',inplace=True)

TERM = 10

TS = yields[TERM] - yields[1]
#ax = TS.plot();
#ax.axhline(0, c='r');


import pandas_datareader as pdr

def download_usrec():
    usrec = pdr.get_data_fred('USREC',start=yields.index[0])
    return usrec

rec = download_usrec()
rec_daily = rec.reindex(TS.index, method='ffill')


df = pd.DataFrame(TS)
df.columns = ['spread']
df = df.join(rec,how='inner')

fig, ax = plt.subplots(figsize=(10, 6))
ax.plot(df.index, df.iloc[:, 0], label='Time Series')  # Plotting the first column

# Adding shaded regions where the second column is 1
for idx, row in df.iterrows():
    if row[1] == 1:
        ax.axvspan(idx, idx + pd.Timedelta(days=1), color='gray', alpha=0.3)

ax.axhline(0, c='r');
ax.legend(['term spread','recession'])
plt.show()























filepath = '../data/treasury_quotes_2024-10-31.xlsx'
sheet = 'selected quotes'
quotes = pd.read_excel(filepath,sheet_name=sheet).set_index('KYTREASNO')
quotes





import pandas as pd
import numpy as np
from scipy.optimize import fsolve

def bootstrap_spot_rates(df):
    """
    Bootstraps spot rates from a dataframe of bond information.
    
    :param df: Pandas DataFrame with columns 'price', 'cpn rate', and 'ttm'
    :return: Pandas Series of spot rates indexed by TTM
    """
    # Ensure the DataFrame is sorted by TTM
    df = df.sort_values(by='ttm')
    
    # Initialize a dictionary to store spot rates
    spot_rates = {}

    # Iterate over each bond
    for index, row in df.iterrows():
        ttm, coupon_rate, price = row['ttm'], row['cpn rate'], row['price']
        cash_flows = [coupon_rate / 2] * round(ttm * 2)  # Semi-annual coupons
        cash_flows[-1] += 100  # Add the face value to the last cash flow

        # Function to calculate the present value of cash flows
        def pv_of_cash_flows(spot_rate):
            pv = 0
            for t in range(1, len(cash_flows) + 1):
                if t/2 in spot_rates:
                    rate = spot_rates[t/2]
                else:
                    rate = spot_rate
                pv += cash_flows[t - 1] / ((1 + rate / 2) ** t)
            return pv

        # Solve for the spot rate that sets the present value of cash flows equal to the bond price
        spot_rate_guess = (cash_flows[-1] / price) ** (1/(ttm*2)) - 1
        spot_rate = fsolve(lambda r: pv_of_cash_flows(r) - price, x0=spot_rate_guess)[0]

        # Store the calculated spot rate
        spot_rates[ttm] = spot_rate

    return pd.Series(spot_rates)


COMPOUNDING = 2

spot = pd.DataFrame(bootstrap_spot_rates(quotes))
spot.columns = ['rate']
spot['discount factor'] = intrate_to_discount(spot['rate'],spot.index,n_compound=COMPOUNDING)





forward = pd.DataFrame(spot['discount factor']/spot['discount factor'].shift(),index=spot.index, columns=['discount factor'])
forward['discount factor'].iloc[0] = spot['discount factor'].iloc[0]
forward['rate'] = -np.log(forward['discount factor']) / forward.index.to_series().diff().mean()

fig, ax = plt.subplots(2,1,figsize=(10,10))
forward['discount factor'].plot(ax=ax[0],title='discount factor')
forward['rate'].plot(ax=ax[1],title='rate')
plt.tight_layout()
plt.show()


fig, ax = plt.subplots()
spot['rate'].plot(ax=ax)
forward['rate'].plot(ax=ax)
plt.legend(['spot rate','forward rate'])
plt.ylabel(f'compounding freq: {COMPOUNDING}')
plt.show()





T2list = [1,4]
for T2 in T2list:
    forwardrate = forward['rate'].iloc[int(T2*2)-1]
    print(f'The Forward Rate at {T2-.5} to {T2} is {forwardrate:.2%}')








DATE = '2020'


filepath = '../data/famabliss_strips_2024-12-31.xlsx'
prices = pd.read_excel(filepath, sheet_name='prices')
prices.set_index('date',inplace=True)





FREQ = 12
WINDOW = FREQ * 4 + 1
px = prices.iloc[-WINDOW::FREQ]
px





spots = -np.log(px)/px.columns
spots





F = px[[2,3,4,5]] / px[[1,2,3,4]].values
F


F.T.plot()





f = -np.log(F)
f.insert(0,1,spots[1])
f


f.T.plot(xticks=f.columns);





spots.T.plot();


temp = pd.concat([spots.loc[DATE], f.loc[DATE]],axis=0).squeeze()
ax = temp.T.plot()
ax.legend(['spot', 'forward'])
plt.show()








temp = f.loc[DATE].T

temp.columns.name = f'{DATE}: (n-1) to n'
temp.columns = [f'forward curve']
temp['spot over time'] = spots[1].values
temp.style.format('{:.2%}')





ax = temp.plot(xticks=temp.index)
