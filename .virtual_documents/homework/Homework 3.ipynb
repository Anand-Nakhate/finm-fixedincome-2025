


import pandas as pd
import numpy as np
import statsmodels.api as sm





















































filepath = '../data/yields.xlsx'
yields = pd.read_excel(filepath, sheet_name='yields')
yields.set_index('caldt',inplace=True)
yields.head()





QUOTE_DATE = '2024-10-31'
filepath = f'../data/treasury_ts_duration_{QUOTE_DATE}.xlsx'

data = pd.read_excel(filepath,sheet_name='database')
data_info =  data.drop_duplicates(subset='KYTREASNO', keep='first').set_index('KYTREASNO')
data_info[['type','issue date','maturity date','cpn rate']]





SHEET_PRICE = 'price'
SHEET_DURATION = 'duration'
INDEX_NAME = 'quote date'

price = pd.read_excel(filepath,sheet_name=SHEET_PRICE).set_index(INDEX_NAME).rename(columns={207391: "price_207391", 207392: "price_207392"})
duration = pd.read_excel(filepath,sheet_name=SHEET_DURATION).set_index(INDEX_NAME).rename(columns={207391: "duration_207391", 207392: "duration_207392"})


display(price.head())
display(duration.head())





maturities = list(map(int, yields.columns))
factors = pd.DataFrame(index=yields.index)
factors['level'] = yields[maturities].mean(axis=1)
factors['slope'] = yields[30] - yields[1]
factors['curvature'] = -yields[1] + 2*yields[10] - yields[30]
factors.head()





merged_df = pd.merge(price, factors, how="inner", left_index=True, right_index=True)
merged_df


merged_df["dP/P_207391"] = merged_df["price_207391"].pct_change()
merged_df["dP/P_207392"] = merged_df["price_207392"].pct_change()
merged_df["d_level"] = merged_df["level"].diff()
merged_df["d_slope"] = merged_df["slope"].diff()
merged_df["d_curvature"] = merged_df["curvature"].diff()
merged_df.dropna(inplace=True)


Y_207391 = merged_df["dP/P_207391"]
X = merged_df[["d_level", "d_slope", "d_curvature"]]
X = sm.add_constant(X)
model = sm.OLS(Y_207391,X)
results = model.fit()
results.params


Y_207392 = merged_df["dP/P_207392"]
X = merged_df[["d_level", "d_slope", "d_curvature"]]
X = sm.add_constant(X)
model = sm.OLS(Y_207392,X)
results = model.fit()
results.params





avg_duration = duration.mean()
avg_duration
























