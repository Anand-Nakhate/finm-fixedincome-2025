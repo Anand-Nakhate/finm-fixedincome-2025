
































import sys
sys.path.insert(0, 'modules')
from treasury_cmds import *
from fixedinc import *
import warnings
import math

warnings.filterwarnings("ignore")  # Ignore all warnings


from pathlib import Path
import sys
import pandas as pd

# Get the directory of the notebook (assumes Jupyter Notebook is always used)
BASE_DIR = Path().resolve()

# Define paths for data and modules
DATA_DIR = BASE_DIR / "data"
MODULES_DIR = BASE_DIR / "modules"

# Check if expected directories exist
if not DATA_DIR.exists():
    print(f"Warning: Data directory '{DATA_DIR}' not found. Check your file structure.")

if not MODULES_DIR.exists():
    print(f"Warning: Modules directory '{MODULES_DIR}' not found. Check your file structure.")

# Ensure Python can import from the modules directory
if str(MODULES_DIR) not in sys.path:
    sys.path.append(str(MODULES_DIR))

# # Load exam data
# EXAMPLE_DATA_PATH = DATA_DIR / "treasury_quotes_clean_2024-12-31.xlsx"

# if EXAMPLE_DATA_PATH.exists():
#     example_data = pd.read_csv(EXAMPLE_DATA_PATH)
# else:
#     print(f"Warning: '{EXAMPLE_DATA_PATH.name}' not found. Ensure it's in the correct directory.")









bonds=[
    {"Bond":"2Y Treasury","Coupon":0.04,"YTM":0.0474,"TTM":2},
    {"Bond":"10Y Treasury","Coupon":0.02,"YTM":0.0444,"TTM":10}
]
summary_df_0 = pd.DataFrame(bonds).set_index("Bond")
summary_df_0.T





def bond_price(t, T, c, y, freq=2, face=100):
    n = int(freq * (T - t))
    price = 0
    for i in range(1, n):
        price += face * (c / 2) / ((1 + (y / 2)) ** (2 * ((i / freq) - t)))
    price += face * (1 + (c / 2)) / ((1 + (y / 2)) ** (2 * (T - t)))
    return price


results = []
for b in bonds:
    p = bond_price(0, b["TTM"], b["Coupon"], b["YTM"])
    results.append({"Bond": b["Bond"], "Price": round(p, 4)})
price_0 = pd.DataFrame(results).set_index("Bond")
price_0.T





def bond_duration(t, T, c, y, freq=2, face=100):
    n = int(freq * (T - t))
    price = 0
    weighted_sum = 0
    for i in range(1, n):
        t_i = i / freq - t
        CF = face * (c / 2)
        pv = CF / ((1 + y / 2) ** (2 * t_i))
        price += pv
        weighted_sum += t_i * pv
    t_i = T - t
    CF = face * (1 + c / 2)
    pv = CF / ((1 + y / 2) ** (2 * t_i))
    price += pv
    weighted_sum += t_i * pv
    macaulay_duration = weighted_sum / price
    modified_duration = macaulay_duration / (1 + y / 2)
    modified_dollar_duration = modified_duration * price
    return modified_duration, modified_dollar_duration


results = []
for b in bonds:
    mod_dur, mod_dol_dur = bond_duration(0, b["TTM"], b["Coupon"], b["YTM"])
    results.append({
        "Bond": b["Bond"],
        "Modified Duration": round(mod_dur, 4),
        "Modified-Dollar Duration": round(mod_dol_dur, 4)
    })
duration_df = pd.DataFrame(results).set_index("Bond")
duration_df





data = {}
for b in bonds:
    p = bond_price(0, b["TTM"], b["Coupon"], b["YTM"])
    mod_dur, mod_dol = bond_duration(0, b["TTM"], b["Coupon"], b["YTM"])
    data[b["Bond"]] = {"Price": p, "Mod_Dol": mod_dol}
    
MD2 = data["2Y Treasury"]["Mod_Dol"]
MD10 = data["10Y Treasury"]["Mod_Dol"]
price2 = data["2Y Treasury"]["Price"]
price10 = data["10Y Treasury"]["Price"]

x = 1000 / (MD2 * 0.0001)
y = (MD2 / MD10) * x

pos = [
    {"Bond": "2Y Treasury Long", 
     "Notional": round(x), 
     "Market Value": round((x / 100) * price2), 
     "Contracts": round(x / 100)},
    {"Bond": "10Y Treasury Short", 
     "Notional": round(y), 
     "Market Value": round((y / 100) * price10), 
     "Contracts": round(y / 100)}
]

positions = pd.DataFrame(pos).set_index("Bond")
positions
# GPT Prompt: Cleanup the results from the code into a final df





def bond_dirty_clean_price(settlement, T, coupon, y, freq=2, face=100):
    coupon_period = 1 / freq
    cp = face * coupon / freq
    coupon_dates = [i * coupon_period for i in range(1, int(T * freq) + 1)]
    last_coupon = 0
    for d in coupon_dates:
        if d <= settlement:
            last_coupon = d
    accrued = cp * (settlement - last_coupon) / coupon_period
    dirty = 0
    for d in coupon_dates:
        if d > settlement:
            cf = cp
            if abs(d - T) < 1e-8:
                cf += face
            dirty += cf / ((1 + y / 2) ** (2 * (d - settlement)))
    clean = dirty - accrued
    return dirty, clean


settlement = 0.05
bonds = [
    {"Bond": "2Y Treasury", "Coupon": 0.04, "YTM": 0.0432, "TTM": 2},
    {"Bond": "10Y Treasury", "Coupon": 0.02, "YTM": 0.0414, "TTM": 10}
]
results = []
for b in bonds:
    dirty, clean = bond_dirty_clean_price(settlement, b["TTM"], b["Coupon"], b["YTM"])
    results.append({
        "Bond": b["Bond"],
        "Dirty Price": round(dirty, 4),
        "Clean Price": round(clean, 4)
    })
df = pd.DataFrame(results).set_index("Bond")
df





bonds_init = [
    {"Bond": "2Y Treasury", "Coupon": 0.04, "YTM": 0.0474, "TTM": 2},
    {"Bond": "10Y Treasury", "Coupon": 0.02, "YTM": 0.0444, "TTM": 10}
]

metrics = {}

for b in bonds_init:
    mod_dur, mod_dol = bond_duration(0, b["TTM"], b["Coupon"], b["YTM"])
    metrics[b["Bond"]] = {"ModDol": mod_dol, "Price": bond_price(0, b["TTM"], b["Coupon"], b["YTM"])}
    
MDD2 = metrics["2Y Treasury"]["ModDol"]
MDD10 = metrics["10Y Treasury"]["ModDol"]

x = 1000 / (MDD2 * 0.0001)
y = (MDD2 / MDD10) * x
dy_2 = 0.0432 - 0.0474
dy_10 = 0.0414 - 0.0444
dP2 = -MDD2 * dy_2
dP10 = -MDD10 * dy_10
pnl_2 = (x / 100) * dP2
pnl_10 = - (y / 100) * dP10
pnl_total = pnl_2 + pnl_10
results = [
    {"Position": "2Y Treasury Long", "PnL": round(pnl_2, 4)},
    {"Position": "10Y Treasury Short", "PnL": round(pnl_10, 4)},
    {"Position": "Portfolio Total", "PnL": round(pnl_total, 4)}
]
df = pd.DataFrame(results).set_index("Position")
df
# GPT Prompt: Using the above functions, calculate the pnl for each position using dollar duration





def bond_convexity(t, T, coupon, y, freq=2, face=100):
    n = int(freq*(T-t))
    price = 0
    convexity_sum = 0
    for i in range(1, n):
        t_i = i/freq - t
        CF = face * (coupon/2)
        disc = (1+y/2)**(2*t_i)
        price += CF/disc
        convexity_sum += CF * t_i * (t_i + 1/freq) / ((1+y/2)**(2*t_i+2))
    t_i = T - t
    CF = face * (1+coupon/2)
    disc = (1+y/2)**(2*t_i)
    price += CF/disc
    convexity_sum += CF * t_i * (t_i + 1/freq) / ((1+y/2)**(2*t_i+2))
    return convexity_sum/price, price
# GPT Prompt: Share code for bond convexity for coupon bond


metrics = {}
for b in bonds_init:
    P0 = bond_price(0, b["TTM"], b["Coupon"], b["YTM"])
    _, mod_dol = bond_duration(0, b["TTM"], b["Coupon"], b["YTM"])
    conv, _ = bond_convexity(0, b["TTM"], b["Coupon"], b["YTM"])
    metrics[b["Bond"]] = {"Price": P0, "ModDol": mod_dol, "Convexity": conv}
    
MDD2 = metrics["2Y Treasury"]["ModDol"]
MDD10 = metrics["10Y Treasury"]["ModDol"]
Price2 = metrics["2Y Treasury"]["Price"]
Price10 = metrics["10Y Treasury"]["Price"]
conv2 = metrics["2Y Treasury"]["Convexity"]
conv10 = metrics["10Y Treasury"]["Convexity"]

notional_2Y = 1000 / (MDD2 * 0.0001)
notional_10Y = (MDD2 / MDD10) * notional_2Y

dy_2 = 0.0432 - 0.0474
dy_10 = 0.0414 - 0.0444
dP2 = - MDD2 * dy_2 + 0.5 * (conv2 * Price2) * (dy_2**2)
dP10 = - MDD10 * dy_10 + 0.5 * (conv10 * Price10) * (dy_10**2)
pnl_2 = (notional_2Y/100) * dP2
pnl_10 = - (notional_10Y/100) * dP10
pnl_total = pnl_2 + pnl_10
results = [
    {"Position": "2Y Treasury Long", "PnL": round(pnl_2, 4)},
    {"Position": "10Y Treasury Short", "PnL": round(pnl_10, 4)},
    {"Position": "Portfolio Total", "PnL": round(pnl_total, 4)}
]
df = pd.DataFrame(results).set_index("Position")
df





metrics = {}
for b in bonds_init:
    P0 = bond_price(0, b["TTM"], b["Coupon"], b["YTM"])
    _, mod_dol = bond_duration(0, b["TTM"], b["Coupon"], b["YTM"])
    conv, _ = bond_convexity(0, b["TTM"], b["Coupon"], b["YTM"])
    metrics[b["Bond"]] = {"Price": P0, "ModDol": mod_dol, "Conv": conv, "Coupon": b["Coupon"], "TTM": b["TTM"], "YTM": b["YTM"]}
MDD2 = metrics["2Y Treasury"]["ModDol"]
MDD10 = metrics["10Y Treasury"]["ModDol"]
Price2 = metrics["2Y Treasury"]["Price"]
Price10 = metrics["10Y Treasury"]["Price"]
conv2 = metrics["2Y Treasury"]["Conv"]
conv10 = metrics["10Y Treasury"]["Conv"]
x = 1000 / (MDD2 * 0.0001)
y_notion = (MDD2 / MDD10) * x
dy_2 = 0.0432 - 0.0474
dy_10 = 0.0414 - 0.0444
dP2_duration = -MDD2 * dy_2
dP10_duration = -MDD10 * dy_10
pnl_2_duration = (x / 100) * dP2_duration
pnl_10_duration = - (y_notion / 100) * dP10_duration
total_duration = pnl_2_duration + pnl_10_duration
dP2_dc = -MDD2 * dy_2 + 0.5 * (conv2 * Price2) * (dy_2 ** 2)
dP10_dc = -MDD10 * dy_10 + 0.5 * (conv10 * Price10) * (dy_10 ** 2)
pnl_2_dc = (x / 100) * dP2_dc
pnl_10_dc = - (y_notion / 100) * dP10_dc
total_dc = pnl_2_dc + pnl_10_dc
dirty2_new, _ = bond_dirty_clean_price(0.05, metrics["2Y Treasury"]["TTM"], metrics["2Y Treasury"]["Coupon"], 0.0432)
dirty10_new, _ = bond_dirty_clean_price(0.05, metrics["10Y Treasury"]["TTM"], metrics["10Y Treasury"]["Coupon"], 0.0414)
accrual2 = (100 * (metrics["2Y Treasury"]["Coupon"] / 2)) * (0.05 / 0.5)
accrual10 = (100 * (metrics["10Y Treasury"]["Coupon"] / 2)) * (0.05 / 0.5)
full_change_2 = dirty2_new - (Price2 + accrual2)
full_change_10 = dirty10_new - (Price10 + accrual10)
pnl_2_full = (x / 100) * full_change_2
pnl_10_full = - (y_notion / 100) * full_change_10
total_full = pnl_2_full + pnl_10_full
data = [
    {"Position": "2Y Treasury Long",
     "Duration PnL": round(pnl_2_duration, 4),
     "Duration+Convexity PnL": round(pnl_2_dc, 4),
     "Full Repricing PnL": round(pnl_2_full, 4)},
    {"Position": "10Y Treasury Short",
     "Duration PnL": round(pnl_10_duration, 4),
     "Duration+Convexity PnL": round(pnl_10_dc, 4),
     "Full Repricing PnL": round(pnl_10_full, 4)},
    {"Position": "Portfolio Total",
     "Duration PnL": round(total_duration, 4),
     "Duration+Convexity PnL": round(total_dc, 4),
     "Full Repricing PnL": round(total_full, 4)}
]
df = pd.DataFrame(data).set_index("Position")
df























import pandas as pd
import numpy as np


filepath = '../data/treasury_quotes_clean_2024-12-31.xlsx'
SHEET = 'selected quotes'
quotes = pd.read_excel(filepath,sheet_name=SHEET).set_index('KYTREASNO')
quotes.head()





QUOTE_DATE = quotes['quote date'].iloc[0]
t_date = pd.to_datetime(QUOTE_DATE)

CF = pd.DataFrame(data=0, index=quotes.index, columns=quotes['maturity date'])

for i in quotes.index:
    coupon_dates = get_coupon_dates(t_date,pd.to_datetime(quotes.loc[i,'maturity date']))

    if coupon_dates is not None:
        CF.loc[i,coupon_dates] = quotes.loc[i,'cpn rate']/2

    CF.loc[i,quotes.loc[i,'maturity date']] += 100

CF = CF.resample('m',axis=1).sum()
CF.drop(columns=CF.columns[(CF==0).all()],inplace=True)
CF = CF.fillna(0).sort_index(axis=1)
display(CF)
CF.shape


COMPOUNDING = 2
spot = pd.DataFrame(np.linalg.solve(CF,quotes['price'].loc[CF.index]), index=CF.index, columns=['Discount Factor'])
spot.insert(0,'ttm',quotes['ttm'])
spot = spot.reset_index().set_index('ttm')
spot['rate'] = discount_to_intrate(spot['Discount Factor'], spot.index,n_compound=COMPOUNDING)
spot["Continuous Rate"] = -np.log(spot["Discount Factor"]) /spot.index.astype(float)
display(spot)
fig, ax = plt.subplots(2,1,figsize=(10,10))
spot['Discount Factor'].plot(ax=ax[0],title='Discount Factor')
spot['rate'].plot(ax=ax[1],title='rate')
plt.tight_layout()
plt.show()








def forward_curve(maturities, df):
    rows = []
    for i in range(len(maturities)-1):
        T1 = maturities[i]
        T2 = maturities[i+1]
        f_df = df[i+1] / df[i]
        delta = T2 - T1
        sa_rate = 2 * ((1/f_df)**(1/(2*delta)) - 1)
        cont_rate = -math.log(f_df) / delta
        rows.append((T2, f_df, sa_rate, cont_rate))
    return pd.DataFrame(rows, columns=["Maturity", "Forward DF", "Semiannual Rate", "Continuous Rate"])

fc = forward_curve(list(spot.index), list(spot["Discount Factor"])).set_index("Maturity")
display(fc.round(4))

fig, ax = plt.subplots(2,1,figsize=(10,10))
fc['Forward DF'].plot(ax=ax[0],title='Forward Discount Factor')
fc['Continuous Rate'].plot(ax=ax[1],title='Continuous Rate')
plt.tight_layout()
plt.show()








max_cont = fc["Continuous Rate"].max()
max_cont_row = fc[fc["Continuous Rate"] == max_cont].iloc[0]
max_cont_row
print("T1 = 6.5, T2 = 7")



