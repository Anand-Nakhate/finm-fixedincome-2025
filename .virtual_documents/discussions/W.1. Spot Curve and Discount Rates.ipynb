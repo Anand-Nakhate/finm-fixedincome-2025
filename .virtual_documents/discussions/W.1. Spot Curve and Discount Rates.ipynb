


import pandas as pd
import numpy as np
import warnings
warnings.filterwarnings('ignore',category=FutureWarning)
FutureWarning


import matplotlib.pyplot as plt
%matplotlib inline
plt.rcParams['figure.figsize'] = (12,6)
plt.rcParams['font.size'] = 15
plt.rcParams['legend.fontsize'] = 13

import sys
sys.path.insert(0, '../cmds')
from treasury_cmds import * #compound_rate, intrate_to_discount
#from fixed_income_cmds import *


QUOTE_DATE = '2024-05-31'
TYPE_PROCESSING = 'crsp'

filepath_rawdata = f'../data/treasury_quotes_{TYPE_PROCESSING}_{QUOTE_DATE}.xlsx'
rawdata = pd.read_excel(filepath_rawdata,sheet_name='quotes')

if TYPE_PROCESSING=='crsp':
    metrics = process_wrds_treasury_data(rawdata)
    metrics['clean price'] = metrics['price'].copy()
    metrics['price'] = metrics['dirty price'].copy()
    metrics.drop(columns=['dirty price'])

else:
    metrics = rawdata

















rate = .05
compound_base = 1

ngrid = [1, 2, 4, 12, 52, 365]
compounded_rate = pd.DataFrame(index=ngrid,columns=['rate','discount'],dtype=float)
for n in ngrid:
    compounded_rate.loc[n] = compound_rate(rate,compound_base,n)
    compounded_rate.loc[n,'discount'] = 1/(1+compounded_rate.loc[n,'rate']/n)**n
    
compounded_rate.loc['continuous','rate'] = compound_rate(rate,compound_base,None)
compounded_rate.loc['continuous','discount'] = intrate_to_discount(compounded_rate.loc['continuous','rate'],compound_base,n_compound=None)

display(compounded_rate.style.format("{:.4%}"))

















rawdata.set_index('KYTREASNO',inplace=True)

CF = calc_cashflows(rawdata)
prices = metrics['price'][CF.index]

CFset = {'all dates, including negative YTM quotes':CF}
display(CF)











MODEL = bootstrap

RESTRICT_YLD = True
RESTRICT_TIPS = True

RESTRICT_DTS_MATURING = True
RESTRICT_REDUNDANT = True

t_current = metrics['quote date'].iloc[0]

data = filter_treasuries(rawdata, t_date=t_current, filter_yld = RESTRICT_YLD, filter_tips = RESTRICT_TIPS, drop_duplicate_maturities=RESTRICT_REDUNDANT)
CF = filter_treasury_cashflows(calc_cashflows(data),filter_maturity_dates=RESTRICT_DTS_MATURING)

prices = metrics['price'][CF.index]
params_boot = estimate_rate_curve(MODEL,CF,t_current,prices)

label = 'single maturity per date, no non-maturity dates'
CFset[label] = CF

plt.plot(params_boot[0],params_boot[1])
plt.xlabel('maturity')
plt.ylabel('discount factor')
plt.title('Discount Curve: Bootstrap')
plt.show()





MODEL = bootstrap

RESTRICT_YLD = True
RESTRICT_TIPS = True

RESTRICT_DTS_MATURING = True
RESTRICT_REDUNDANT = False

data = filter_treasuries(rawdata, t_date=t_current, filter_yld = RESTRICT_YLD, filter_tips = RESTRICT_TIPS, drop_duplicate_maturities=RESTRICT_REDUNDANT)
CF = filter_treasury_cashflows(calc_cashflows(data),filter_maturity_dates=RESTRICT_DTS_MATURING)

prices = metrics['price'][CF.index]
params_OLS = estimate_rate_curve(MODEL,CF,t_current,prices)

label = 'no non-maturity dates'
CFset[label] = CF

disc_ols = pd.DataFrame({'maturity':params_OLS[0], 'ols': params_OLS[1]}).set_index('maturity')
disc_ols.plot(marker='*',linestyle='--',ylabel='discount factor',title='Discount Curve: OLS')
plt.show()





inc = .5

maturity_grid = np.arange(inc,disc_ols.index.to_series().max()+.5,inc)
curves_ols = pd.DataFrame(index = maturity_grid)
curves_ols['bootstrap'] = bootstrap(params_boot,maturity_grid)
curves_ols['ols'] = bootstrap(params_OLS,maturity_grid)

ax = curves_ols.plot(linestyle='-',marker='*',ylabel='rate',xlabel='maturity',title='Spot Curve')
plt.show()








RESTRICT_YLD = True
RESTRICT_TIPS = True

RESTRICT_DTS_MATURING = False
RESTRICT_REDUNDANT = False

data = filter_treasuries(rawdata, t_date=t_current, filter_yld = RESTRICT_YLD, filter_tips = RESTRICT_TIPS, drop_duplicate_maturities=RESTRICT_REDUNDANT)

CF = filter_treasury_cashflows(calc_cashflows(data),filter_maturity_dates=RESTRICT_DTS_MATURING)
CFset['all dates'] = CF


prices = metrics['price'][CF.index]
params_OLS_bad = estimate_rate_curve(MODEL,CF,t_current,prices)

disc_ols_bad = pd.DataFrame({'maturity':params_OLS_bad[0], 'discount factor': params_OLS_bad[1]}).set_index('maturity')
disc_ols_bad.plot(marker='*',linestyle='',ylim=(.15,1.1),ylabel='discount factor',title='Discount Curve: OLS on All Data')
plt.show()





disc_ols_bad.plot(marker='*',linestyle='',ylabel='discount factor',title='Discount Curve: OLS on All Data - Zoomed Out')
plt.show()





condnum = dict()
for key in CFset:
    condnum[key] = np.linalg.cond(CFset[key].T @ CFset[key])

condition_numbers = pd.DataFrame({"data set":condnum.keys(), 'cashflow matrix condition number':condnum.values()}).set_index('data set').iloc[[1,2,3,0],:]
display(condition_numbers.style.format('{:.2e}'))





prices = metrics['price'][CF.index]

x0 = np.ones(4)/10
params_NS = estimate_rate_curve(nelson_siegel,CF,t_current,prices,x0)

x0 = np.concatenate((params_NS,(1/10,1/10)))
params_NSE = estimate_rate_curve(nelson_siegel_extended,CF,t_current,prices,x0=x0)

tab_params_ns = pd.DataFrame(data = params_NS, index=['theta 0', 'theta 1', 'theta 2', 'lambda_1'],columns=['Nelson-Siegel']).T
tab_params_ns.loc[:,['theta_3', 'lambda_2']] = None
tab_params_ns.loc['Nelson-Siegel Extended',:] = params_NSE
tab_params_ns





inc = .5

maturity_list = get_maturity_delta(list(CFset.values())[-1].columns,t_current=t_current)
maturity_grid = np.arange(inc,maturity_list.max()+.5,inc)
curves = pd.DataFrame(index = maturity_grid)
curves['nelson siegel'] = nelson_siegel(params_NS,maturity_grid)
curves['ns-extended']= nelson_siegel_extended(params_NSE,maturity_grid)

ax = curves_ols.plot(linestyle='-',marker='*')
curves.plot(ax=ax, linestyle='-',marker='*', ylim=(.5*curves.min().min(),1.1*curves.max().max()*1.1))

series_plotted = list(curves_ols.columns) + list(curves.columns)
plt.legend(series_plotted)
plt.xlabel('maturity')
plt.ylabel('interest rate')
plt.title('Spot Curve')
plt.show()





ax = disc_ols.plot()

zero_curve = intrate_to_discount(curves.loc[:,'nelson siegel'], maturity_grid, n_compound=None).to_frame()
zero_curve['ns-extended'] = intrate_to_discount(curves.loc[:,'ns-extended'], maturity_grid, n_compound=None).to_frame()
zero_curve.plot(ax=ax, title='Discount Curve', xlabel='maturity',ylabel='discount factor')

plt.show()





ax = curves_ols.plot(linestyle='-',marker='*')
curves.plot(ax=ax, linestyle='-',marker='*', ylim=(.5*curves.min().min(),curves.max().max()*1.1))
metrics.set_index('ttm')['ytm'].plot(ax=ax, linestyle='',marker='*', color='k')

series_plotted = list(curves_ols.columns) + list(curves.columns) + ['quoted ytm']
plt.legend(series_plotted)
plt.xlabel('maturity')
plt.ylabel('interest rate')
plt.title('Spot Curve vs YTM')
plt.show()





def compare_pricing(CF):

    price_comp = pd.DataFrame(columns=['ttm','quoted','bootstrap','ols','nelson siegel','ns-extended'], index=rawdata.index)
    price_comp['ttm'] = metrics['ttm'][CF.index]
    price_comp['quoted'] = metrics['price'][CF.index]
    price_comp['bootstrap'] = price_with_rate_model(params_boot,CF,t_current,bootstrap)
    price_comp['ols'] = price_with_rate_model(params_OLS,CF,t_current,bootstrap)
    price_comp['nelson siegel'] = price_with_rate_model(params_NS,CF,t_current,nelson_siegel)
    price_comp['ns-extended'] = price_with_rate_model(params_NSE,CF,t_current,nelson_siegel_extended)
    price_comp.set_index('ttm',inplace=True)

    errors = (price_comp.sub(price_comp['quoted'],axis=0)**2).sum(axis=0)

    return price_comp, errors


errors = pd.DataFrame()

keys = list(CFset.keys())

label = keys[1]
price_comp_boot, errors[label] = compare_pricing(CFset[label])

label = keys[2]
price_comp_ols, errors[label] = compare_pricing(CFset[label])

label = keys[3]
price_comp_ns, errors[label] = compare_pricing(CFset[label])

label = keys[0]
price_comp_raw, errors[label] = compare_pricing(CFset[label])

sample = {k: v.shape[0] for k, v in CFset.items()}
display(pd.DataFrame(sample,index=['observations'])[errors.columns])

errors.style.format('{:.2f}')


def plot_prices(price_comp,label):
    
    marker_list = ['o', '^', 'v', 'x', '+']
    color_list = ['k', 'b', 'm', 'r', 'g']

    plt.figure()
    ax = plt.gca()

    for i, col in enumerate(price_comp.columns):
        ax.scatter(x=price_comp.index, y=price_comp[col], marker=marker_list[i], color=color_list[i])
    
    plt.xlabel('maturity')
    plt.ylabel('price')
    plt.legend(price_comp.columns)
    plt.title(f'Price Comparison ({label})')
    plt.show()    


plot_prices(price_comp_boot,keys[1])
plot_prices(price_comp_ols,keys[2])
plot_prices(price_comp_ns,keys[3])
plot_prices(price_comp_raw,keys[0])



