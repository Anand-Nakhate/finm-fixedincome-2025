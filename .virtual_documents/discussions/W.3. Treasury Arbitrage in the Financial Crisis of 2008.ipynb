





import pandas as pd
import numpy as np
#from datetime import datetime
import warnings

from sklearn.linear_model import LinearRegression
from sklearn.decomposition import PCA
from scipy.optimize import minimize

import matplotlib.pyplot as plt
%matplotlib inline
plt.rcParams['figure.figsize'] = (12,6)
plt.rcParams['font.size'] = 15
plt.rcParams['legend.fontsize'] = 13

from matplotlib.ticker import (MultipleLocator,
                               FormatStrFormatter,
                               AutoMinorLocator)


import sys
sys.path.insert(0, '../cmds')
from treasury_cmds import *
from tradebondpair import *








filepath_tsdata = f'../data/treasury_ts_2015-08-15.xlsx'
info = pd.read_excel(filepath_tsdata,sheet_name='info',index_col=0)
tsdata = pd.read_excel(filepath_tsdata,sheet_name='database')
tsdata.columns = tsdata.columns.str.upper()


DATE0 = '2008-11-04'
tab = get_table(info,tsdata,DATE0)
tab





financing = pd.DataFrame(dtype='float64',index=['long','short'])
financing['haircut'] = [.02,.02]
financing['repo'] = [.0015,.0010]
financing





keyLong = tab.loc['ytm'].astype('float64').idxmax()
keyShort = tab.loc['ytm'].astype('float64').idxmin()











LONGEQUITY = 1e6

balsheet, fmt = trade_balance_sheet(prices=tab.loc['dirty price'], durations=tab.loc['duration'], haircuts=financing['haircut'], long_equity=LONGEQUITY, key_long=keyLong, key_short=keyShort)
balsheet.style.format(fmt,na_rep='')








spread = get_spread_bps(tsdata)
spread = spread[keyShort]
spread.rename('ytm spread (bps)',inplace=True)
spread.loc['2008':'2008-11-04'].plot(ylabel='bps',title='YTM spread (bps)');





spread_convergence = tab.loc['ytm'].diff().dropna().abs().values[0]

pnl_spread_converges, fmt_dict = pnl_spread_trade(spread_convergence,tab.loc['modified duration'], tab.loc['dirty price'], balsheet['contracts'])
pnl_spread_converges.style.format(fmt_dict,na_rep='')





spread_convergence = .0001

pnl_spread_1bp, fmt_dict = pnl_spread_trade(spread_convergence,tab.loc['modified duration'], tab.loc['dirty price'], balsheet['contracts'])
pnl_spread_1bp.style.format(fmt_dict,na_rep='')


opportunity = pd.DataFrame([pnl_spread_converges.loc['total','pnl'], pnl_spread_1bp.loc['total','pnl']], columns=['pnl'],index=['converges','1bp'])
opportunity['return'] = opportunity['pnl'] / balsheet['equity'].abs().sum()
opportunity.style.format({'return':'{:.2%}','pnl':'${:,.2f}'})








ask = tsdata.pivot_table(index='CALDT',columns='KYTREASNO',values='TDASK')
bid = tsdata.pivot_table(index='CALDT',columns='KYTREASNO',values='TDBID')
accint = tsdata.pivot_table(index='CALDT',columns='KYTREASNO',values='TDACCINT')
dirty = (ask + bid)/2 + accint
dirty = dirty[[keyLong,keyShort]]

duration = tsdata.pivot_table(index='CALDT',columns='KYTREASNO',values='TDDURATN')[[keyLong,keyShort]] / 365.25





n_weeks = 9
trade, fmt_dict = trade_evolution(DATE0, tab.loc['maturity date',keyShort], n_weeks, balsheet, dirty, duration, financing, tab.loc['coupon rate'], keyLong, keyShort)

summary = trade[['price change','coupons','total pnl']].join(spread,how='left')

fmt = fmt_dict
fmt['ytm spread (bps)'] = '{:.2f}'
summary.style.format(fmt,na_rep='')


fig, ax = plt.subplots()

ax.plot(summary[['total pnl']])
ax.set_xlabel('date');
ax.set_ylabel('cumulative profit and loss',color=ax.get_lines()[-1].get_color());
ax.tick_params(axis='x', rotation=45)
ax.legend(['cumulative pnl'],loc=2)

ax2 = ax.twinx()
ax2.plot(summary[['ytm spread (bps)']], color='r')
ax2.set_ylabel('ytm ytm spread (bps)',color=ax2.get_lines()[-1].get_color());
ax2.legend(['ytm spread'],loc=1)

ax.set_title('Total Profit & Loss vs YTM spread (bps)');





spread.loc['2008'].plot(ylabel='ytm spread (bps)',title='YTM spread over time');





n_weeks = 35
trade_long, fmt_dict = trade_evolution(DATE0, tab.loc['maturity date',keyShort], n_weeks, balsheet, dirty, duration, financing, tab.loc['coupon rate'], keyLong, keyShort)

summary_long = trade_long[['price change','coupons','total pnl']].join(spread,how='left')

fmt = fmt_dict
fmt['ytm spread (bps)'] = '{:.2f}'
summary_long.iloc[::4,:].style.format(fmt,na_rep='')


fig, ax = plt.subplots()

ax.plot(summary_long[['total pnl']])
ax.set_xlabel('date');
ax.set_ylabel('cumulative profit and loss',color=ax.get_lines()[-1].get_color());
ax.tick_params(axis='x', rotation=45)

ax2 = ax.twinx()
ax2.plot(summary_long[['ytm spread (bps)']], color='r')
ax2.set_ylabel('ytm ytm spread (bps)',color=ax2.get_lines()[-1].get_color());

ax.set_title('Total Profit & Loss vs YTM spread (bps)');





spread.loc['2005':'2014'].plot(ylabel='ytm spread (bps)',title='YTM spread over time');


spread.loc[:'2014'].describe()














trade_long.iloc[::3,2:].style.format(fmt_dict,na_rep='')











annual_financing_cost = -(financing['repo'].values * balsheet['assets']).sum()

print(f'Annualized financing cost (via repo) is roughly ${annual_financing_cost:,.2f}')






